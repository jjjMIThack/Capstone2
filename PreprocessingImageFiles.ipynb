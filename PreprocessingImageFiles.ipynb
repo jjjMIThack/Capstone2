{
 "cells": [
  {
   "cell_type": "code",
   "execution_count": 1,
   "metadata": {},
   "outputs": [],
   "source": [
    "import numpy as np\n",
    "import pandas as pd\n",
    "import matplotlib.pyplot as plt\n",
    "from tifffile import imsave\n",
    "from PIL import Image\n",
    "from os import listdir, rename\n",
    "from os.path import isfile, join\n",
    "import os\n",
    "import tensorflow as tf"
   ]
  },
  {
   "cell_type": "code",
   "execution_count": null,
   "metadata": {},
   "outputs": [],
   "source": []
  },
  {
   "cell_type": "code",
   "execution_count": 2,
   "metadata": {},
   "outputs": [],
   "source": [
    "def combine_channels(mypath, file_pre, samplenum):\n",
    "    \n",
    "    onlyfiles = [f for f in listdir(mypath) if isfile(join(mypath, f))]\n",
    "    onlyfiles = pd.Series(onlyfiles)\n",
    "    count = 0\n",
    "    \n",
    "    for idx in range(1,6):\n",
    "        str_true = file_pre+'_s{}_w{}'.format(samplenum,idx)\n",
    "        \n",
    "        file_true = pd.Series([file_str.find(str_true) for file_str in onlyfiles])\n",
    "        file_true = file_true >= 0\n",
    "        \n",
    "        if len(onlyfiles[file_true]) == 0:\n",
    "            0\n",
    "        else: \n",
    "            count += 1\n",
    "            filename = mypath + str(onlyfiles[file_true].values[0])\n",
    "            im = Image.open(filename)\n",
    "            im_temp = np.array(im)\n",
    "            if count == 1:\n",
    "                im_array = np.zeros((im_temp.shape[0], im_temp.shape[1], 5))\n",
    "            im_array[:,:, idx-1] = np.array(im)\n",
    "        \n",
    "    return im_array"
   ]
  },
  {
   "cell_type": "code",
   "execution_count": 13,
   "metadata": {},
   "outputs": [
    {
     "data": {
      "text/plain": [
       "57"
      ]
     },
     "execution_count": 13,
     "metadata": {},
     "output_type": "execute_result"
    }
   ],
   "source": [
    "len(f)"
   ]
  },
  {
   "cell_type": "code",
   "execution_count": 11,
   "metadata": {},
   "outputs": [],
   "source": [
    "#Rename chemical image file names\n",
    "path_vec = ['../Images/Chemical/20585/', '../Images/Chemical/20592/',\\\n",
    "           '../Images/Chemical/20607/', '../Images/Chemical/20633/']\n",
    "\n",
    "assay_vec = ['B04', 'C04', 'D04', 'E04']\n",
    "class_vec = range(len(assay_vec))\n",
    "\n",
    "for idx1 in path_vec:\n",
    "    mypath = idx1\n",
    "    for f in listdir(mypath):\n",
    "        if isfile(join(mypath, f)):\n",
    "            if (len(f) == 14):\n",
    "                \n",
    "                str_hold = f[6:10]\n",
    "                str_new = 'classA'+str_hold+'.tif'\n",
    "                rename(mypath+f, mypath+str_new)\n",
    "        \n",
    "        "
   ]
  },
  {
   "cell_type": "code",
   "execution_count": 31,
   "metadata": {},
   "outputs": [],
   "source": [
    "for idx1 in path_vec:\n",
    "    mypath = idx1\n",
    "    for f in listdir(mypath):\n",
    "        if (f.find('classs')>=0):\n",
    "            str_hold = f[6:10]\n",
    "            str_new = 'classA04_s'+str_hold+'.tif'\n",
    "            rename(mypath+f, mypath+str_new)"
   ]
  },
  {
   "cell_type": "code",
   "execution_count": 10,
   "metadata": {},
   "outputs": [
    {
     "name": "stdout",
     "output_type": "stream",
     "text": [
      "B04_s2_w1\n"
     ]
    }
   ],
   "source": [
    "onlyfiles = [f for f in listdir('../Images/Chemical/20585/') if isfile(join('../Images/Chemical/20585/', f))]\n",
    "onlyfiles = pd.Series(onlyfiles)\n",
    "print(onlyfiles[50][8:17])"
   ]
  },
  {
   "cell_type": "code",
   "execution_count": 14,
   "metadata": {},
   "outputs": [],
   "source": [
    "#Rename genetic image file names\n",
    "path_vec2 = ['../Images/Genetic/41744/',\\\n",
    "             '../Images/Genetic/41754/',\\\n",
    "             '../Images/Genetic/41755/',\\\n",
    "             '../Images/Genetic/41756/',\\\n",
    "           '../Images/Genetic/41757/']\n",
    "\n",
    "class_vec = range(len(assay_vec))\n",
    "\n",
    "for idx1 in path_vec2:\n",
    "    mypath = idx1\n",
    "    for f in listdir(mypath):\n",
    "        if isfile(join(mypath, f)):\n",
    "            if (len(f) > 50):\n",
    "                str_hold = f[32:42]\n",
    "                str_new = 'class'+str_hold+'.tif'\n",
    "                \n",
    "                rename(mypath+f, mypath+str_new)\n",
    "            \n",
    "        "
   ]
  },
  {
   "cell_type": "code",
   "execution_count": 3,
   "metadata": {},
   "outputs": [],
   "source": [
    "#Cycle through and create series of images in new folder \n",
    "path_vec = ['../Images/Chemical/20585/', '../Images/Chemical/20592/',\\\n",
    "           '../Images/Chemical/20607/', '../Images/Chemical/20633/']\n",
    "\n",
    "assay_vec = ['A04', 'B04','C04','D04','E04']\n",
    "\n",
    "class_vec = range(len(assay_vec))\n",
    "count = np.zeros(len(assay_vec))\n",
    "\n",
    "for idx1 in path_vec:\n",
    "    for idx2, class_num in zip(assay_vec, class_vec):\n",
    "        for idx3 in range(1,10):\n",
    "            count[class_num] += 1\n",
    "            \n",
    "            im_array = combine_channels(idx1, idx2, idx3)\n",
    "            \n",
    "            im_array_temp = im_array.sum(axis = 2)\n",
    "            im_array_temp3 = 256*im_array_temp/im_array_temp.max().max()\n",
    "            im_array_temp3 = im_array_temp3.astype('int')\n",
    "            \n",
    "            #im_array_temp2 = np.zeros(shape=(520,696,3))\n",
    "            im_array_temp2 = np.expand_dims(im_array_temp3, axis = 2)\n",
    "            \n",
    "            #im_array_temp2 = np.stack((im_array_temp3, im_array_temp3,im_array_temp3), axis=2 )\n",
    "            \n",
    "            \n",
    "            #im_array_temp2 = im_array_temp3\n",
    "            #image = Image.fromarray(im_array_temp2)\n",
    "            \n",
    "            #image = tf.image.grayscale_to_rgb(im_array_temp2, name=None)\n",
    "            #image = np.array(image)\n",
    "            \n",
    "            \n",
    "            filename = 'class'+idx2+'_{}'.format(int(count[class_num]))+'_comb.tif'\n",
    "\n",
    "            dirname = '../Images/train/class{}/'.format(int(class_num))\n",
    "            \n",
    "            os.makedirs(os.path.dirname(dirname+filename), exist_ok = True)\n",
    "            #image.save(dirname+filename, format = 'TIFF')\n",
    "            imsave(dirname+filename, im_array_temp2)"
   ]
  },
  {
   "cell_type": "code",
   "execution_count": null,
   "metadata": {},
   "outputs": [],
   "source": [
    "#Cycle through and create series of images in new folder \n",
    "path_vec2 = ['../Images/Genetic/41744/',\\\n",
    "             '../Images/Genetic/41754/',\\\n",
    "           '../Images/Genetic/41755/',\\\n",
    "             '../Images/Genetic/41756/',\\\n",
    "           '../Images/Genetic/41757/']\n",
    "\n",
    "assay_vec2 = ['a04', 'b04','c04','d04','e04']\n",
    "class_vec2 = np.array(range(len(assay_vec2))) + len(class_vec)\n",
    "\n",
    "count2 = np.zeros(len(assay_vec2))\n",
    "\n",
    "for idx1 in path_vec2:\n",
    "    for idx2, class_num in zip(assay_vec2\n",
    "                               , class_vec2):\n",
    "        for idx3 in range(1,10):\n",
    "            count2[class_num-len(class_vec)] += 1\n",
    "            \n",
    "            im_array = combine_channels(idx1, idx2, idx3)\n",
    "            \n",
    "            im_array_temp = im_array.sum(axis = 2)\n",
    "            im_array_temp3 = 256*im_array_temp/im_array_temp.max().max()\n",
    "            im_array_temp3 = im_array_temp3.astype('int')\n",
    "            \n",
    "            #im_array_temp2 = np.stack((im_array_temp3, im_array_temp3,im_array_temp3), axis=2 )\n",
    "            im_array_temp2 = im_array_temp3\n",
    "            \n",
    "            #Cycle through and create series of images in new folder \n",
    "\n",
    "            filename = 'class'+idx2+'_{}'.format(int(count2[class_num-len(class_vec)]))+'_comb.tif'\n",
    "            dirname = '../Images/train/class{}/'.format(int(class_num))\n",
    "            \n",
    "            os.makedirs(os.path.dirname(dirname+filename), exist_ok = True)\n",
    "            imsave(dirname+filename, im_array_temp2)"
   ]
  }
 ],
 "metadata": {
  "kernelspec": {
   "display_name": "Python 3",
   "language": "python",
   "name": "python3"
  },
  "language_info": {
   "codemirror_mode": {
    "name": "ipython",
    "version": 3
   },
   "file_extension": ".py",
   "mimetype": "text/x-python",
   "name": "python",
   "nbconvert_exporter": "python",
   "pygments_lexer": "ipython3",
   "version": "3.7.3"
  }
 },
 "nbformat": 4,
 "nbformat_minor": 2
}
